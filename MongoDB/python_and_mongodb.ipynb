{
 "cells": [
  {
   "cell_type": "markdown",
   "metadata": {},
   "source": [
    "[MongoDB(몽고 디비) 특징 공부하기 / 몽고 DB란 무엇인가?[조영규의 블로그]](http://dev.youngkyu.kr/22)  \n",
    "[Pymongo tutorial (파이몽고 사용하기) / pymongo 번역[조영규의 블로그]](http://dev.youngkyu.kr/23)  \n",
    "하기 내용은 상기링크를 정리한것."
   ]
  },
  {
   "cell_type": "markdown",
   "metadata": {},
   "source": [
    "# MongoDB란?"
   ]
  },
  {
   "cell_type": "markdown",
   "metadata": {},
   "source": [
    "## 문서지향 데이터베이스"
   ]
  },
  {
   "cell_type": "markdown",
   "metadata": {},
   "source": [
    "MongoDB란 강력하고 유연하고 확장성이 높은 도큐먼트 베이스(문서 지향)의 데이터 베이스이다.  \n",
    "문서지향 데이터베이스는 Row의 개념대신 유연한 모델인 문서를 이용한다.  \n",
    "내장 문서와 배열의 표현으로 복잡한 객체의 계층 관계를 하나의 레코드(열)로 표현한다.\n",
    "위의 이유로 최신객체지향 언어들을 사용하는 개발자들에게 많은 편리함을가져다 준다.  \n",
    "그러나 안정성 문제가 있기도 하기때문에 안정성 문제를 조심해서 사용해야한다."
   ]
  },
  {
   "cell_type": "markdown",
   "metadata": {},
   "source": [
    "## 스키마가 없다?\n",
    "MongoDB의 특징 중 가장 유명한 것은 스키마가 없다는 것이다.  \n",
    "이것은 필요할 때 마다 필드를 추가하거나 제거하는 것이 매우 쉬움을 뜻한다.  \n",
    "필드라는 것은 MongoDB에서는 없는것과 같기 때문이다.  \n",
    "이로 인해 개발과정이 매우 빠르고 단순하게 변하게 되어 개발하기가 쉬워진다."
   ]
  },
  {
   "cell_type": "markdown",
   "metadata": {},
   "source": [
    "## 스케일 아웃이 가능하다?\n",
    "대용량의 로그데이터가 필요할때마다 필드를 바꾸며 빠른 속도로 데이터를 저장해야하는데,   \n",
    "이때 MongoDB가 매우 적합하다.  \n",
    "또한 Scale out도 가능하며 (DB 자체적으로 지원을 하며 이를 염두하고 설계되었고 알아서 문서를 재분배하고 라우팅까지 완벽히 처리한다.)  \n",
    "스키마가 없어 필요할 때 마다 필드를 변형 시킬 수 있기 때문이다."
   ]
  },
  {
   "cell_type": "markdown",
   "metadata": {},
   "source": [
    "## 범용 데이터베이스.\n",
    "CRUD의 작업외에도 다양한 기능을 제공한다.  \n",
    "NoSQL이지만 쿼리가 있다.  \n",
    "아래는 MongoDB가 제공하는 기능 중 일부이다.  \n",
    "* 인덱싱 제공.\n",
    "* 집계  파이프 라인 지원\n",
    "* 특수한 컬렉션 유형 제공. (TTL등 고정크기의 컬렉션을 말한다.)\n",
    "* 파일 저장소 지원"
   ]
  },
  {
   "cell_type": "markdown",
   "metadata": {},
   "source": [
    "## 조인과 트랜잭션이 없다.\n",
    "분산시스템의 성능과 활용을 위하여 해당기능을 포기하였다."
   ]
  },
  {
   "cell_type": "markdown",
   "metadata": {},
   "source": [
    "## 매우 고성능.\n",
    "MongoDB는 쓰기와 읽기가 기존의 RDB의 수십배의 성능을 발휘한다.  \n",
    "제약조건에 대한 처리가 적거나 없기 때문이다.  \n",
    "그러나 이 조건으로 인하여 손수 제약조건을 처리해야하는 수고가 필요하다."
   ]
  },
  {
   "cell_type": "markdown",
   "metadata": {},
   "source": [
    "## 문서는 기존 SQLDB의 행(row)이다. \n",
    "MongoDB는 Json형식으로 생각하면 편하다.  \n",
    "MongoDB는 key+value로 많은 것들을 빠르게 간단하게 만들었다.  \n",
    "저장방식으로는 컬렉션에 저장하며 데이터 형태가 따로 있다.  \n",
    "ex)  \n",
    "* 3와 \"3\"은 다르게 취급\n",
    "* **{a:1, b:2}, {b:2, a:1}**은 다르게 취급."
   ]
  },
  {
   "cell_type": "markdown",
   "metadata": {},
   "source": [
    "## 컬렉션 == SQL Table.\n",
    "컬렉션에 테이블을 저장할때 주의 해야할 점이 있다.  \n",
    "* 컬렉션으로 구별해서 저장해 두는것이 데이터 지역성 측면에서도, 구분해서 사용하는것이 인덱스도 효율적으로 만들 수 있다."
   ]
  },
  {
   "cell_type": "markdown",
   "metadata": {},
   "source": [
    "## 컬렉션은 Table과 같이 이름을 만든다.\n",
    "NoSQL DB인 Mongo DB는 말 뿐인 서브 컬렉션이 있다.  \n",
    "즉 SQL의 서브컬렉션 처럼 실제로 존재하지 않는 서브 컬렉션을 이름으로 구분하여 사용한다.<br>\n",
    "<br>\n",
    "  ex) '. '  \n",
    "메인 컬렉션인 image가 있고 하위 컬렉션인 image.thumbnail을 시각적으로 관계를 형성할 수 있다.  \n",
    "하지만 DB간에 컬렉션은 실제로 관계형성이 되어 있지않다."
   ]
  },
  {
   "cell_type": "markdown",
   "metadata": {},
   "source": [
    "## 데이터베이스에 컬렉션을 그룹지어 놓는다.\n",
    "DB를 생성하여 여러가지 컬렉션을 모아 두고 사용할 수 있으며 DB간은 독립적으로 구분된다.  \n",
    "SQL과 동일하다.  \n",
    "각 데이터 베이스는 자체적인 권한 설정이 가능하며, 따로 파일 시스템에 하나의 파일로 저장된다.  \n",
    "따라서 64바이트 이내의 이름이 설정 가능하고,  \n",
    "빈 문자열은 불가능하며 파일 시스템에서 지원하지 않는 특수기호는 사용이 불가능하며 대소문자도 구별 가능하다."
   ]
  },
  {
   "cell_type": "markdown",
   "metadata": {},
   "source": [
    "## MongoDB의 특별한 데이터 베이스.\n",
    "* admin : root 데이터베이스이며 이곳에 추가된 사용자는 전체 MongoDB의 권한을 획득한다.   \n",
    "서버 전체의 쿼리문을 진행시 admin에서 사용해야 전체목록을 \n",
    "* local : 이 디비는 특정 서버에만 보관하는 정보를 담는곳, 복제가 불가능\n",
    "* config : 몽고디비는 자체로 샤딩을 지원한다. 이 디비는 샤드 정보를 저장하는데 사용한다."
   ]
  },
  {
   "cell_type": "code",
   "execution_count": 6,
   "metadata": {},
   "outputs": [],
   "source": [
    "import pymongo\n",
    "from pymongo import MongoClient\n",
    "import json"
   ]
  },
  {
   "cell_type": "code",
   "execution_count": 3,
   "metadata": {},
   "outputs": [],
   "source": [
    "client = MongoClient('localhost', 27017)"
   ]
  },
  {
   "cell_type": "code",
   "execution_count": 4,
   "metadata": {},
   "outputs": [],
   "source": [
    "db = client['nowmoment_company']"
   ]
  },
  {
   "cell_type": "code",
   "execution_count": 9,
   "metadata": {},
   "outputs": [],
   "source": [
    "db_test = client['test']"
   ]
  },
  {
   "cell_type": "code",
   "execution_count": 5,
   "metadata": {},
   "outputs": [],
   "source": [
    "collection = db['nowmoment_company']"
   ]
  },
  {
   "cell_type": "code",
   "execution_count": 7,
   "metadata": {},
   "outputs": [],
   "source": [
    "posts = db.posts"
   ]
  },
  {
   "cell_type": "code",
   "execution_count": null,
   "metadata": {},
   "outputs": [],
   "source": [
    "post_id = posts.insert(post)"
   ]
  }
 ],
 "metadata": {
  "kernelspec": {
   "display_name": "Python 3",
   "language": "python",
   "name": "python3"
  },
  "language_info": {
   "codemirror_mode": {
    "name": "ipython",
    "version": 3
   },
   "file_extension": ".py",
   "mimetype": "text/x-python",
   "name": "python",
   "nbconvert_exporter": "python",
   "pygments_lexer": "ipython3",
   "version": "3.6.4"
  }
 },
 "nbformat": 4,
 "nbformat_minor": 2
}
