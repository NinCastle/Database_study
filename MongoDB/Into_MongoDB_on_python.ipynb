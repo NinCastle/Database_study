{
 "cells": [
  {
   "cell_type": "markdown",
   "metadata": {},
   "source": [
    "[조묵현](http://smartbase.tistory.com/64)  \n",
    "[VELOPERT.LOG](https://velopert.com/436)  \n",
    "[ZeroCho](https://www.zerocho.com/category/MongoDB/post/57964fae79746d2441d8be05)  \n",
    "[cooingpop](http://www.polarglow.com/2017/07/17/mongodb%EB%A5%BC-%ED%95%98%EB%82%98%EB%8F%84-%EB%AA%A8%EB%A5%B4%EB%8A%94-%EC%82%AC%EB%9E%8C%EC%9D%98-%EB%94%A5%EB%9F%AC%EB%8B%9D-windows-mongodb-%EC%84%A4%EC%B9%98-%EB%B0%8F-%EC%82%AC%EC%9A%A9/)  \n",
    "[잔재미코딩](http://www.fun-coding.org/mongodb_basic5.html)  \n",
    "하기 내용은 상기 링크를 정리한것."
   ]
  },
  {
   "cell_type": "markdown",
   "metadata": {},
   "source": [
    "# MongoDB(NoSQL)"
   ]
  },
  {
   "cell_type": "markdown",
   "metadata": {},
   "source": [
    "## NoSQL이란?\n",
    "NoSQL이전에 존재하던 SQL(관계형 데이터베이스)가 아닌 데이터 베이스를 의미한다.  \n",
    "NoSQL의 대표적인 제품은 MongoDB, Redis, Cassandra가 있다.  \n",
    "본장에서는 오픈소스인 MongoDB를 사용한다.  \n",
    "\n",
    "## MongoDB의 특징\n",
    "V8 자바스크립트 엔진을 기반으로 제작된 Document based DataBase로 웹 및 소셜 게임등에도 폭넓게 사용되고 있다.\n",
    "\n",
    "## Document란?\n",
    "Doucument Oriented 데이터베이스라고 하며 한개 이상의 Key-Value 값으로 이루져있는 데이터를 뜻한다.\n",
    "```nosql\n",
    "{\n",
    "    \"name\":\"Andrew\"\n",
    "}\n",
    "```\n",
    "파이썬의 Dictionaly 구조를 생각하면 쉽다.\n",
    "\n",
    "## Collection이란?\n",
    "Collection은 MongoDB의 Dcoument 그룹을 뜻한다.  \n",
    "즉, Document들은 Collection의 내부에 위치하며, Collection의 구성요소이다.  \n",
    "  \n",
    "## Database?\n",
    "Collection의 물리적인 저장소를 뜻하며, DataBase는 매우 다양한 종류가 있다."
   ]
  },
  {
   "cell_type": "markdown",
   "metadata": {},
   "source": [
    "## CRUD\n",
    "대부분의 데이터 베이스는 CRUD라는 기능이 있다.  \n",
    "Create, Read, Update, Delete의 약자로 데이터베이스의 자료를 생성, 조회, 수정, 삭제하는 기능이 있다."
   ]
  },
  {
   "cell_type": "markdown",
   "metadata": {},
   "source": [
    "### Document 입력 - insertOne, insertMany\n",
    "* insertOne 한개의 document 생성\n",
    "* insertMany 여러개의 document 생성\n",
    "  \n",
    "Document 입력\n",
    "![](http://www.fun-coding.org/00_Images/mongodb_insert_structure.png) "
   ]
  },
  {
   "cell_type": "markdown",
   "metadata": {},
   "source": [
    "insertOne 예제\n",
    "```\n",
    "use test\n",
    "\n",
    "db.articles.insertOne(\n",
    "    { food : \"라면\", customer:\"Andrew\"}\n",
    ")\n",
    "```"
   ]
  },
  {
   "cell_type": "markdown",
   "metadata": {},
   "source": [
    "insertMany 예제\n",
    "```\n",
    "db.articles.insertMany(\n",
    "   [\n",
    "        { food : \"라면\", customer:\"Andrew\"},\n",
    "        { food : \"치킨\", customer:\"William\"},\n",
    "        { food : \"짜장면\", customer:\"Jack\"}\n",
    "   ]\n",
    ")\n",
    "```"
   ]
  },
  {
   "cell_type": "markdown",
   "metadata": {},
   "source": [
    "### Document 읽기 - findOne, find\n",
    "* findOne : 한개의 document 검색\n",
    "* find : 모든 document 검색"
   ]
  },
  {
   "cell_type": "markdown",
   "metadata": {},
   "source": [
    "Document 읽기\n",
    "![](http://www.fun-coding.org/00_Images/mongodb_find_structure.png)\n",
    "\n",
    "조건을 사용하여 검색\n",
    "```\n",
    "db.articles.find(\n",
    "{ food : {$eq:\"라면\"}})\n",
    "```"
   ]
  },
  {
   "cell_type": "markdown",
   "metadata": {},
   "source": [
    "비교문법  \n",
    "  \n",
    "|문법|기호|설명|\n",
    "|---|---|---|\n",
    "|`$eq`| = |같다.|\n",
    "|`$qt`| > |왼쪽보다 크다.|\n",
    "|`$gte`|>=|왼쪽보다 크거나 같다.|\n",
    "|`$in`| |왼쪽에 포함되어 있다.|\n",
    "|`$lt`|<|왼쪽보다 작다.|\n",
    "|`$lte`|<=|왼쪽보다 작거나 같다.|\n",
    "|`$ne`|!=|다르다.|\n",
    "|`$nin`|  |없다.|"
   ]
  },
  {
   "cell_type": "markdown",
   "metadata": {},
   "source": [
    "### Document 수정 - updateone, updateMany\n",
    "* updateOne - 한개의 document 수정\n",
    "* updateMany - 여러개의 document 수정\n",
    "  \n",
    "Document 수정\n",
    "![](http://www.fun-coding.org/00_Images/mongodb_update_structure.png)"
   ]
  },
  {
   "cell_type": "markdown",
   "metadata": {},
   "source": [
    "```\n",
    "db.articles.updateOne( { food : {$eq:\"라면\"} }, { $set: { food: \"삼계탕\" } } )\n",
    "```"
   ]
  },
  {
   "cell_type": "markdown",
   "metadata": {},
   "source": [
    "### Document 삭제 - removeOne, removeMany\n",
    "* removeOne - 한개의 document를 삭제\n",
    "* removeMany - 여러개의 document를 삭제"
   ]
  },
  {
   "cell_type": "markdown",
   "metadata": {},
   "source": [
    "Document 삭제\n",
    "![](http://www.fun-coding.org/00_Images/mongodb_delete_structure.png)"
   ]
  },
  {
   "cell_type": "markdown",
   "metadata": {},
   "source": [
    "```\n",
    "db.articles.deleteOne( { food : {$eq:\"라면\"} } )\n",
    "```"
   ]
  },
  {
   "cell_type": "markdown",
   "metadata": {},
   "source": [
    "## pymongo 설치\n",
    "```\n",
    "pip install pymongo\n",
    "```"
   ]
  },
  {
   "cell_type": "code",
   "execution_count": null,
   "metadata": {},
   "outputs": [],
   "source": [
    "use admin\n",
    "db.createUser( \n",
    "    {   user: \"andrew\",\n",
    "        pwd: \"and1234\",\n",
    "        roles: [ \"userAdminAnyDatabase\",\n",
    "        \"dbAdminAnyDatabase\",\n",
    "        \"readWriteAnyDatabase\"] \n",
    "    } \n",
    ")"
   ]
  },
  {
   "cell_type": "code",
   "execution_count": 1,
   "metadata": {},
   "outputs": [
    {
     "name": "stdout",
     "output_type": "stream",
     "text": [
      "Database(MongoClient(host=['localhost:27017'], document_class=dict, tz_aware=False, connect=True), 'test')\n"
     ]
    }
   ],
   "source": [
    "import pymongo\n",
    "\n",
    "connection = pymongo.MongoClient()\n",
    "db = connection.test\n",
    "db = connection['test']\n",
    "print(db)"
   ]
  },
  {
   "cell_type": "code",
   "execution_count": 4,
   "metadata": {},
   "outputs": [
    {
     "name": "stderr",
     "output_type": "stream",
     "text": [
      "C:\\Users\\Andrew\\AppData\\Local\\conda\\conda\\envs\\text3.5\\lib\\site-packages\\ipykernel_launcher.py:10: DeprecationWarning: add_user is deprecated and will be removed in PyMongo 4.0. Use db.command with createUser or updateUser instead\n",
      "  # Remove the CWD from sys.path while we load stuff.\n"
     ]
    }
   ],
   "source": [
    "import pymongo\n",
    "\n",
    "hostname = 'localhsot'\n",
    "port = 27017\n",
    "user = 'andrew'\n",
    "password = 'and1234'\n",
    "\n",
    "## pymongo를 활용하여 접속한다\n",
    "connection = pymongo.MongoClient(hostname, port)\n",
    "\n",
    "mongodb = connetion."
   ]
  }
 ],
 "metadata": {
  "kernelspec": {
   "display_name": "text3.5",
   "language": "python",
   "name": "text3.5"
  },
  "language_info": {
   "codemirror_mode": {
    "name": "ipython",
    "version": 3
   },
   "file_extension": ".py",
   "mimetype": "text/x-python",
   "name": "python",
   "nbconvert_exporter": "python",
   "pygments_lexer": "ipython3",
   "version": "3.5.5"
  }
 },
 "nbformat": 4,
 "nbformat_minor": 2
}
